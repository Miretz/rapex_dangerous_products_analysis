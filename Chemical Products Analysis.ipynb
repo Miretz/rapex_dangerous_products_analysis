{
 "cells": [
  {
   "cell_type": "markdown",
   "metadata": {},
   "source": [
    "# Chemical Products Analysis"
   ]
  },
  {
   "cell_type": "markdown",
   "metadata": {},
   "source": [
    "In this notebook I'm going to look into the Chemical products category from RAPEX. I will use all the alerts from 2005 to 2018."
   ]
  },
  {
   "cell_type": "markdown",
   "metadata": {},
   "source": [
    "## Required imports"
   ]
  },
  {
   "cell_type": "code",
   "execution_count": 1,
   "metadata": {},
   "outputs": [
    {
     "data": {
      "text/html": [
       "<script>requirejs.config({paths: { 'plotly': ['https://cdn.plot.ly/plotly-latest.min']},});if(!window.Plotly) {{require(['plotly'],function(plotly) {window.Plotly=plotly;});}}</script>"
      ],
      "text/vnd.plotly.v1+html": [
       "<script>requirejs.config({paths: { 'plotly': ['https://cdn.plot.ly/plotly-latest.min']},});if(!window.Plotly) {{require(['plotly'],function(plotly) {window.Plotly=plotly;});}}</script>"
      ]
     },
     "metadata": {},
     "output_type": "display_data"
    }
   ],
   "source": [
    "import requests\n",
    "import pandas as pd\n",
    "import codecs\n",
    "import urllib.parse\n",
    "import html5lib\n",
    "from bs4 import BeautifulSoup\n",
    "import plotly.offline as py\n",
    "import plotly.graph_objs as go\n",
    "from plotly.offline import download_plotlyjs, init_notebook_mode, plot, iplot\n",
    "\n",
    "init_notebook_mode(connected=True)\n",
    "pd.set_option('display.max_colwidth', 300)"
   ]
  },
  {
   "cell_type": "markdown",
   "metadata": {},
   "source": [
    "## Configuration"
   ]
  },
  {
   "cell_type": "code",
   "execution_count": 2,
   "metadata": {},
   "outputs": [],
   "source": [
    "category = \"Chemical products\"\n",
    "start_year = 2005\n",
    "end_year = 2018\n",
    "data_file = 'data/rapex_data.xls'"
   ]
  },
  {
   "cell_type": "markdown",
   "metadata": {},
   "source": [
    "## Data download"
   ]
  },
  {
   "cell_type": "code",
   "execution_count": 3,
   "metadata": {},
   "outputs": [
    {
     "name": "stdout",
     "output_type": "stream",
     "text": [
      "Executing search...\n",
      "Downloading Excel data...\n",
      "Saving data to data/rapex_data.xls...\n",
      "Data download complete.\n"
     ]
    }
   ],
   "source": [
    "print(\"Executing search...\")\n",
    "session = requests.Session()\n",
    "category = urllib.parse.quote_plus(category)\n",
    "rapex_search_url = \"https://ec.europa.eu/consumers/consumers_safety/safety_products/rapex/alerts/?event=search.jsonData&search_year={}&productCategory={}&{}\"\n",
    "sorting = \"iSortCol_0=1&sSortDir_0=desc&iSortingCols=1\"\n",
    "years = \"%2C\".join([str(i) for i in range(start_year, end_year + 1)])\n",
    "search_url = rapex_search_url.format(years, category, sorting)\n",
    "session.get(search_url)\n",
    "\n",
    "print(\"Downloading Excel data...\")\n",
    "rapex_excel_url = \"https://ec.europa.eu/consumers/consumers_safety/safety_products/rapex/alerts/?event=main.search.Excel\"\n",
    "result = session.get(rapex_excel_url)\n",
    "content = result.text\n",
    "\n",
    "print(\"Saving data to {}...\".format(data_file))\n",
    "with codecs.open(data_file, 'w') as f:\n",
    "    f.write(content)\n",
    "print(\"Data download complete.\")"
   ]
  },
  {
   "cell_type": "markdown",
   "metadata": {},
   "source": [
    "## Load the data into a Pandas dataframe"
   ]
  },
  {
   "cell_type": "code",
   "execution_count": 4,
   "metadata": {
    "scrolled": true
   },
   "outputs": [
    {
     "data": {
      "text/plain": [
       "(547, 23)"
      ]
     },
     "execution_count": 4,
     "metadata": {},
     "output_type": "execute_result"
    }
   ],
   "source": [
    "html_table = pd.read_html(content, index_col=False)\n",
    "df = pd.concat(html_table)\n",
    "header = df.iloc[0]\n",
    "df = df[1:]\n",
    "df.columns = header\n",
    "\n",
    "df.shape"
   ]
  },
  {
   "cell_type": "markdown",
   "metadata": {},
   "source": [
    "### Columns in the dataset"
   ]
  },
  {
   "cell_type": "code",
   "execution_count": 5,
   "metadata": {},
   "outputs": [
    {
     "data": {
      "text/plain": [
       "['Year',\n",
       " 'Week',\n",
       " 'Risk level',\n",
       " 'Product user',\n",
       " 'Alert number',\n",
       " 'Alert submitted by',\n",
       " 'Category',\n",
       " 'Product',\n",
       " 'Brand',\n",
       " 'Name',\n",
       " 'Type / number of model',\n",
       " 'Batch number / Barcode',\n",
       " 'OECD Portal Category',\n",
       " 'Description',\n",
       " 'Country of origin',\n",
       " 'Counterfeit',\n",
       " 'Risk type',\n",
       " 'Technical defect',\n",
       " 'Risk',\n",
       " 'Measures adopted by notifying country',\n",
       " 'Products were found and measures were taken also in',\n",
       " 'Company recall page',\n",
       " 'URL of Case']"
      ]
     },
     "execution_count": 5,
     "metadata": {},
     "output_type": "execute_result"
    }
   ],
   "source": [
    "list(df)"
   ]
  },
  {
   "cell_type": "markdown",
   "metadata": {},
   "source": [
    "## Initial Data analysis"
   ]
  },
  {
   "cell_type": "markdown",
   "metadata": {},
   "source": [
    "### Number of samples per year"
   ]
  },
  {
   "cell_type": "markdown",
   "metadata": {},
   "source": [
    "Let's start by looking at the distribution of the data by year."
   ]
  },
  {
   "cell_type": "code",
   "execution_count": 6,
   "metadata": {},
   "outputs": [
    {
     "data": {
      "text/html": [
       "<div>\n",
       "<style scoped>\n",
       "    .dataframe tbody tr th:only-of-type {\n",
       "        vertical-align: middle;\n",
       "    }\n",
       "\n",
       "    .dataframe tbody tr th {\n",
       "        vertical-align: top;\n",
       "    }\n",
       "\n",
       "    .dataframe thead th {\n",
       "        text-align: right;\n",
       "    }\n",
       "</style>\n",
       "<table border=\"1\" class=\"dataframe\">\n",
       "  <thead>\n",
       "    <tr style=\"text-align: right;\">\n",
       "      <th></th>\n",
       "      <th>Year</th>\n",
       "      <th>Count</th>\n",
       "    </tr>\n",
       "  </thead>\n",
       "  <tbody>\n",
       "    <tr>\n",
       "      <th>13</th>\n",
       "      <td>2005</td>\n",
       "      <td>5</td>\n",
       "    </tr>\n",
       "    <tr>\n",
       "      <th>12</th>\n",
       "      <td>2006</td>\n",
       "      <td>15</td>\n",
       "    </tr>\n",
       "    <tr>\n",
       "      <th>11</th>\n",
       "      <td>2007</td>\n",
       "      <td>18</td>\n",
       "    </tr>\n",
       "    <tr>\n",
       "      <th>10</th>\n",
       "      <td>2008</td>\n",
       "      <td>21</td>\n",
       "    </tr>\n",
       "    <tr>\n",
       "      <th>6</th>\n",
       "      <td>2009</td>\n",
       "      <td>44</td>\n",
       "    </tr>\n",
       "    <tr>\n",
       "      <th>9</th>\n",
       "      <td>2010</td>\n",
       "      <td>29</td>\n",
       "    </tr>\n",
       "    <tr>\n",
       "      <th>8</th>\n",
       "      <td>2011</td>\n",
       "      <td>38</td>\n",
       "    </tr>\n",
       "    <tr>\n",
       "      <th>1</th>\n",
       "      <td>2012</td>\n",
       "      <td>57</td>\n",
       "    </tr>\n",
       "    <tr>\n",
       "      <th>2</th>\n",
       "      <td>2013</td>\n",
       "      <td>56</td>\n",
       "    </tr>\n",
       "    <tr>\n",
       "      <th>0</th>\n",
       "      <td>2014</td>\n",
       "      <td>64</td>\n",
       "    </tr>\n",
       "    <tr>\n",
       "      <th>4</th>\n",
       "      <td>2015</td>\n",
       "      <td>55</td>\n",
       "    </tr>\n",
       "    <tr>\n",
       "      <th>5</th>\n",
       "      <td>2016</td>\n",
       "      <td>48</td>\n",
       "    </tr>\n",
       "    <tr>\n",
       "      <th>3</th>\n",
       "      <td>2017</td>\n",
       "      <td>55</td>\n",
       "    </tr>\n",
       "    <tr>\n",
       "      <th>7</th>\n",
       "      <td>2018</td>\n",
       "      <td>42</td>\n",
       "    </tr>\n",
       "  </tbody>\n",
       "</table>\n",
       "</div>"
      ],
      "text/plain": [
       "    Year  Count\n",
       "13  2005      5\n",
       "12  2006     15\n",
       "11  2007     18\n",
       "10  2008     21\n",
       "6   2009     44\n",
       "9   2010     29\n",
       "8   2011     38\n",
       "1   2012     57\n",
       "2   2013     56\n",
       "0   2014     64\n",
       "4   2015     55\n",
       "5   2016     48\n",
       "3   2017     55\n",
       "7   2018     42"
      ]
     },
     "execution_count": 6,
     "metadata": {},
     "output_type": "execute_result"
    }
   ],
   "source": [
    "year_counts = df['Year'].value_counts().rename_axis('Year').reset_index(name='Count')\n",
    "year_counts.sort_values(by=['Year'])"
   ]
  },
  {
   "cell_type": "markdown",
   "metadata": {},
   "source": [
    "Most samples are from the year 2014."
   ]
  },
  {
   "cell_type": "code",
   "execution_count": 7,
   "metadata": {},
   "outputs": [
    {
     "data": {
      "application/vnd.plotly.v1+json": {
       "data": [
        {
         "type": "bar",
         "uid": "81193502-9d8f-11e8-b9ed-704d7b2ccef5",
         "x": [
          "2014",
          "2012",
          "2013",
          "2017",
          "2015",
          "2016",
          "2009",
          "2018",
          "2011",
          "2010",
          "2008",
          "2007",
          "2006",
          "2005"
         ],
         "y": [
          64,
          57,
          56,
          55,
          55,
          48,
          44,
          42,
          38,
          29,
          21,
          18,
          15,
          5
         ]
        }
       ],
       "layout": {
        "title": "Data distribution by Year",
        "xaxis": {
         "title": "Year"
        },
        "yaxis": {
         "title": "Count "
        }
       }
      },
      "text/html": [
       "<div id=\"d1603da2-0741-49e4-8926-100c1f475580\" style=\"height: 525px; width: 100%;\" class=\"plotly-graph-div\"></div><script type=\"text/javascript\">require([\"plotly\"], function(Plotly) { window.PLOTLYENV=window.PLOTLYENV || {};window.PLOTLYENV.BASE_URL=\"https://plot.ly\";Plotly.newPlot(\"d1603da2-0741-49e4-8926-100c1f475580\", [{\"x\": [\"2014\", \"2012\", \"2013\", \"2017\", \"2015\", \"2016\", \"2009\", \"2018\", \"2011\", \"2010\", \"2008\", \"2007\", \"2006\", \"2005\"], \"y\": [64.0, 57.0, 56.0, 55.0, 55.0, 48.0, 44.0, 42.0, 38.0, 29.0, 21.0, 18.0, 15.0, 5.0], \"type\": \"bar\", \"uid\": \"8172b082-9d8f-11e8-8234-704d7b2ccef5\"}], {\"title\": \"Data distribution by Year\", \"xaxis\": {\"title\": \"Year\"}, \"yaxis\": {\"title\": \"Count \"}}, {\"showLink\": true, \"linkText\": \"Export to plot.ly\"})});</script>"
      ],
      "text/vnd.plotly.v1+html": [
       "<div id=\"d1603da2-0741-49e4-8926-100c1f475580\" style=\"height: 525px; width: 100%;\" class=\"plotly-graph-div\"></div><script type=\"text/javascript\">require([\"plotly\"], function(Plotly) { window.PLOTLYENV=window.PLOTLYENV || {};window.PLOTLYENV.BASE_URL=\"https://plot.ly\";Plotly.newPlot(\"d1603da2-0741-49e4-8926-100c1f475580\", [{\"x\": [\"2014\", \"2012\", \"2013\", \"2017\", \"2015\", \"2016\", \"2009\", \"2018\", \"2011\", \"2010\", \"2008\", \"2007\", \"2006\", \"2005\"], \"y\": [64.0, 57.0, 56.0, 55.0, 55.0, 48.0, 44.0, 42.0, 38.0, 29.0, 21.0, 18.0, 15.0, 5.0], \"type\": \"bar\", \"uid\": \"8172b082-9d8f-11e8-8234-704d7b2ccef5\"}], {\"title\": \"Data distribution by Year\", \"xaxis\": {\"title\": \"Year\"}, \"yaxis\": {\"title\": \"Count \"}}, {\"showLink\": true, \"linkText\": \"Export to plot.ly\"})});</script>"
      ]
     },
     "metadata": {},
     "output_type": "display_data"
    }
   ],
   "source": [
    "year_counts_plot = [go.Bar(x=year_counts['Year'], y=year_counts['Count'])]\n",
    "py.iplot({'data': year_counts_plot,\n",
    "                  'layout': {\n",
    "            'title': 'Data distribution by Year',\n",
    "            'xaxis': {\n",
    "                 'title': 'Year'},\n",
    "            'yaxis': {\n",
    "                'title': 'Count '}\n",
    "        }})"
   ]
  },
  {
   "cell_type": "markdown",
   "metadata": {},
   "source": [
    "### Product distribution"
   ]
  },
  {
   "cell_type": "markdown",
   "metadata": {},
   "source": [
    "An important insight is to know which products are represented the most in the dataset."
   ]
  },
  {
   "cell_type": "code",
   "execution_count": 8,
   "metadata": {},
   "outputs": [
    {
     "name": "stdout",
     "output_type": "stream",
     "text": [
      "The most represented products are:\n"
     ]
    },
    {
     "data": {
      "text/html": [
       "<div>\n",
       "<style scoped>\n",
       "    .dataframe tbody tr th:only-of-type {\n",
       "        vertical-align: middle;\n",
       "    }\n",
       "\n",
       "    .dataframe tbody tr th {\n",
       "        vertical-align: top;\n",
       "    }\n",
       "\n",
       "    .dataframe thead th {\n",
       "        text-align: right;\n",
       "    }\n",
       "</style>\n",
       "<table border=\"1\" class=\"dataframe\">\n",
       "  <thead>\n",
       "    <tr style=\"text-align: right;\">\n",
       "      <th></th>\n",
       "      <th>Product</th>\n",
       "      <th>Count</th>\n",
       "    </tr>\n",
       "  </thead>\n",
       "  <tbody>\n",
       "    <tr>\n",
       "      <th>0</th>\n",
       "      <td>tattoo ink</td>\n",
       "      <td>169</td>\n",
       "    </tr>\n",
       "    <tr>\n",
       "      <th>1</th>\n",
       "      <td>glue</td>\n",
       "      <td>44</td>\n",
       "    </tr>\n",
       "    <tr>\n",
       "      <th>2</th>\n",
       "      <td>liquid for e-cigarettes</td>\n",
       "      <td>24</td>\n",
       "    </tr>\n",
       "    <tr>\n",
       "      <th>3</th>\n",
       "      <td>valve oil for musical instruments</td>\n",
       "      <td>16</td>\n",
       "    </tr>\n",
       "    <tr>\n",
       "      <th>4</th>\n",
       "      <td>tattoo or permanent make-up ink</td>\n",
       "      <td>12</td>\n",
       "    </tr>\n",
       "    <tr>\n",
       "      <th>5</th>\n",
       "      <td>super glue</td>\n",
       "      <td>9</td>\n",
       "    </tr>\n",
       "    <tr>\n",
       "      <th>6</th>\n",
       "      <td>rubber solution in bicycle repair kit</td>\n",
       "      <td>7</td>\n",
       "    </tr>\n",
       "    <tr>\n",
       "      <th>7</th>\n",
       "      <td>liquid for electronic cigarettes</td>\n",
       "      <td>6</td>\n",
       "    </tr>\n",
       "    <tr>\n",
       "      <th>8</th>\n",
       "      <td>bicycle tyre repair kit</td>\n",
       "      <td>6</td>\n",
       "    </tr>\n",
       "    <tr>\n",
       "      <th>9</th>\n",
       "      <td>poppers</td>\n",
       "      <td>5</td>\n",
       "    </tr>\n",
       "  </tbody>\n",
       "</table>\n",
       "</div>"
      ],
      "text/plain": [
       "                                 Product  Count\n",
       "0                             tattoo ink    169\n",
       "1                                   glue     44\n",
       "2                liquid for e-cigarettes     24\n",
       "3      valve oil for musical instruments     16\n",
       "4        tattoo or permanent make-up ink     12\n",
       "5                             super glue      9\n",
       "6  rubber solution in bicycle repair kit      7\n",
       "7       liquid for electronic cigarettes      6\n",
       "8                bicycle tyre repair kit      6\n",
       "9                                poppers      5"
      ]
     },
     "execution_count": 8,
     "metadata": {},
     "output_type": "execute_result"
    }
   ],
   "source": [
    "df['Product'] = df['Product'].str.lower()\n",
    "product_counts = df['Product'].value_counts().rename_axis('Product').reset_index(name='Count')\n",
    "product_counts.sort_values(by=['Count'], ascending=False)\n",
    "\n",
    "print(\"The most represented products are:\")\n",
    "product_counts.head(10)"
   ]
  },
  {
   "cell_type": "markdown",
   "metadata": {},
   "source": [
    "### Merge similar product categories"
   ]
  },
  {
   "cell_type": "code",
   "execution_count": 9,
   "metadata": {},
   "outputs": [
    {
     "data": {
      "text/html": [
       "<div>\n",
       "<style scoped>\n",
       "    .dataframe tbody tr th:only-of-type {\n",
       "        vertical-align: middle;\n",
       "    }\n",
       "\n",
       "    .dataframe tbody tr th {\n",
       "        vertical-align: top;\n",
       "    }\n",
       "\n",
       "    .dataframe thead th {\n",
       "        text-align: right;\n",
       "    }\n",
       "</style>\n",
       "<table border=\"1\" class=\"dataframe\">\n",
       "  <thead>\n",
       "    <tr style=\"text-align: right;\">\n",
       "      <th></th>\n",
       "      <th>PCategory</th>\n",
       "      <th>Count</th>\n",
       "    </tr>\n",
       "  </thead>\n",
       "  <tbody>\n",
       "    <tr>\n",
       "      <th>0</th>\n",
       "      <td>tatoo</td>\n",
       "      <td>216</td>\n",
       "    </tr>\n",
       "    <tr>\n",
       "      <th>1</th>\n",
       "      <td>glue</td>\n",
       "      <td>88</td>\n",
       "    </tr>\n",
       "    <tr>\n",
       "      <th>2</th>\n",
       "      <td>bicycle and car</td>\n",
       "      <td>62</td>\n",
       "    </tr>\n",
       "    <tr>\n",
       "      <th>3</th>\n",
       "      <td>other</td>\n",
       "      <td>45</td>\n",
       "    </tr>\n",
       "    <tr>\n",
       "      <th>4</th>\n",
       "      <td>e-cigarette</td>\n",
       "      <td>37</td>\n",
       "    </tr>\n",
       "    <tr>\n",
       "      <th>5</th>\n",
       "      <td>cleaning</td>\n",
       "      <td>36</td>\n",
       "    </tr>\n",
       "    <tr>\n",
       "      <th>6</th>\n",
       "      <td>aerosol</td>\n",
       "      <td>33</td>\n",
       "    </tr>\n",
       "    <tr>\n",
       "      <th>7</th>\n",
       "      <td>oil</td>\n",
       "      <td>23</td>\n",
       "    </tr>\n",
       "    <tr>\n",
       "      <th>8</th>\n",
       "      <td>poppers</td>\n",
       "      <td>7</td>\n",
       "    </tr>\n",
       "  </tbody>\n",
       "</table>\n",
       "</div>"
      ],
      "text/plain": [
       "         PCategory  Count\n",
       "0            tatoo    216\n",
       "1             glue     88\n",
       "2  bicycle and car     62\n",
       "3            other     45\n",
       "4      e-cigarette     37\n",
       "5         cleaning     36\n",
       "6          aerosol     33\n",
       "7              oil     23\n",
       "8          poppers      7"
      ]
     },
     "execution_count": 9,
     "metadata": {},
     "output_type": "execute_result"
    }
   ],
   "source": [
    "df['PCategory'] = \"other\"\n",
    "df.loc[df['Product'].str.contains('tattoo|permanent\\smake-up|permanent\\smake\\sup', na=False),'PCategory'] = \"tatoo\"\n",
    "df.loc[df['Product'].str.contains('glue|fixative', na=False),'PCategory'] = \"glue\"\n",
    "df.loc[df['Product'].str.contains('e-cigarette|electronic\\scigar', na=False),'PCategory'] = \"e-cigarette\"\n",
    "df.loc[df['Product'].str.contains('cleaner|dissolvent|wash|antibacterial|cleaning|detergent|bleach|stain\\sremover|paint\\sremover|decalcifier|thinner|descaling|paint\\sstripper', na=False),'PCategory'] = \"cleaning\"\n",
    "df.loc[df['Product'].str.contains('bicycle|car|rubber|tyre|tire|wheel|antifreeze|windscreen|windshield|vehicle|bike', na=False),'PCategory'] = \"bicycle and car\"\n",
    "df.loc[df['Product'].str.contains('freshener|aerosol|spray|perfume|incense|fragrance|scent|aromas', na=False),'PCategory'] = \"aerosol\"\n",
    "df.loc[df['Product'].str.contains('oil|fuel', na=False),'PCategory'] = \"oil\"\n",
    "df.loc[df['Product'].str.contains('popper', na=False),'PCategory'] = \"poppers\"\n",
    "\n",
    "category_counts = df['PCategory'].value_counts().rename_axis('PCategory').reset_index(name='Count').sort_values(by=['Count'], ascending=False)\n",
    "category_counts"
   ]
  },
  {
   "cell_type": "markdown",
   "metadata": {},
   "source": [
    "### Plot the distribution"
   ]
  },
  {
   "cell_type": "code",
   "execution_count": 10,
   "metadata": {},
   "outputs": [
    {
     "data": {
      "application/vnd.plotly.v1+json": {
       "data": [
        {
         "type": "bar",
         "uid": "8a0c4806-9d8f-11e8-bed5-704d7b2ccef5",
         "x": [
          "tatoo",
          "glue",
          "bicycle and car",
          "other",
          "e-cigarette",
          "cleaning",
          "aerosol",
          "oil",
          "poppers"
         ],
         "y": [
          216,
          88,
          62,
          45,
          37,
          36,
          33,
          23,
          7
         ]
        }
       ],
       "layout": {
        "title": "Data distribution by Product",
        "xaxis": {
         "title": "Product"
        },
        "yaxis": {
         "title": "Count "
        }
       }
      },
      "text/html": [
       "<div id=\"69a41b18-63ee-416c-b53e-b8a0ef951fe4\" style=\"height: 525px; width: 100%;\" class=\"plotly-graph-div\"></div><script type=\"text/javascript\">require([\"plotly\"], function(Plotly) { window.PLOTLYENV=window.PLOTLYENV || {};window.PLOTLYENV.BASE_URL=\"https://plot.ly\";Plotly.newPlot(\"69a41b18-63ee-416c-b53e-b8a0ef951fe4\", [{\"x\": [\"tatoo\", \"glue\", \"bicycle and car\", \"other\", \"e-cigarette\", \"cleaning\", \"aerosol\", \"oil\", \"poppers\"], \"y\": [216.0, 88.0, 62.0, 45.0, 37.0, 36.0, 33.0, 23.0, 7.0], \"type\": \"bar\", \"uid\": \"8a0f7a22-9d8f-11e8-8ad2-704d7b2ccef5\"}], {\"title\": \"Data distribution by Product\", \"xaxis\": {\"title\": \"Product\"}, \"yaxis\": {\"title\": \"Count \"}}, {\"showLink\": true, \"linkText\": \"Export to plot.ly\"})});</script>"
      ],
      "text/vnd.plotly.v1+html": [
       "<div id=\"69a41b18-63ee-416c-b53e-b8a0ef951fe4\" style=\"height: 525px; width: 100%;\" class=\"plotly-graph-div\"></div><script type=\"text/javascript\">require([\"plotly\"], function(Plotly) { window.PLOTLYENV=window.PLOTLYENV || {};window.PLOTLYENV.BASE_URL=\"https://plot.ly\";Plotly.newPlot(\"69a41b18-63ee-416c-b53e-b8a0ef951fe4\", [{\"x\": [\"tatoo\", \"glue\", \"bicycle and car\", \"other\", \"e-cigarette\", \"cleaning\", \"aerosol\", \"oil\", \"poppers\"], \"y\": [216.0, 88.0, 62.0, 45.0, 37.0, 36.0, 33.0, 23.0, 7.0], \"type\": \"bar\", \"uid\": \"8a0f7a22-9d8f-11e8-8ad2-704d7b2ccef5\"}], {\"title\": \"Data distribution by Product\", \"xaxis\": {\"title\": \"Product\"}, \"yaxis\": {\"title\": \"Count \"}}, {\"showLink\": true, \"linkText\": \"Export to plot.ly\"})});</script>"
      ]
     },
     "metadata": {},
     "output_type": "display_data"
    }
   ],
   "source": [
    "product_counts_plot = [go.Bar(x=category_counts['PCategory'], y=category_counts['Count'])]\n",
    "py.iplot({'data': product_counts_plot,\n",
    "                  'layout': {\n",
    "            'title': 'Data distribution by Product',\n",
    "            'xaxis': {\n",
    "                 'title': 'Product'},\n",
    "            'yaxis': {\n",
    "                'title': 'Count '}\n",
    "        }})"
   ]
  },
  {
   "cell_type": "markdown",
   "metadata": {},
   "source": [
    "### Risk level"
   ]
  },
  {
   "cell_type": "code",
   "execution_count": 11,
   "metadata": {},
   "outputs": [
    {
     "data": {
      "text/html": [
       "<div>\n",
       "<style scoped>\n",
       "    .dataframe tbody tr th:only-of-type {\n",
       "        vertical-align: middle;\n",
       "    }\n",
       "\n",
       "    .dataframe tbody tr th {\n",
       "        vertical-align: top;\n",
       "    }\n",
       "\n",
       "    .dataframe thead th {\n",
       "        text-align: right;\n",
       "    }\n",
       "</style>\n",
       "<table border=\"1\" class=\"dataframe\">\n",
       "  <thead>\n",
       "    <tr style=\"text-align: right;\">\n",
       "      <th></th>\n",
       "      <th>Risk</th>\n",
       "      <th>Count</th>\n",
       "    </tr>\n",
       "  </thead>\n",
       "  <tbody>\n",
       "    <tr>\n",
       "      <th>0</th>\n",
       "      <td>Serious risk</td>\n",
       "      <td>503</td>\n",
       "    </tr>\n",
       "    <tr>\n",
       "      <th>1</th>\n",
       "      <td>Other risk level</td>\n",
       "      <td>44</td>\n",
       "    </tr>\n",
       "  </tbody>\n",
       "</table>\n",
       "</div>"
      ],
      "text/plain": [
       "               Risk  Count\n",
       "0      Serious risk    503\n",
       "1  Other risk level     44"
      ]
     },
     "execution_count": 11,
     "metadata": {},
     "output_type": "execute_result"
    }
   ],
   "source": [
    "df['Risk level'].value_counts().rename_axis('Risk').reset_index(name='Count')"
   ]
  },
  {
   "cell_type": "markdown",
   "metadata": {},
   "source": [
    "## Cancer Risk"
   ]
  },
  {
   "cell_type": "markdown",
   "metadata": {},
   "source": [
    "### How many risk alerts are related to cancer?"
   ]
  },
  {
   "cell_type": "code",
   "execution_count": 12,
   "metadata": {},
   "outputs": [
    {
     "data": {
      "text/plain": [
       "0    363\n",
       "1    184\n",
       "Name: Cancer, dtype: int64"
      ]
     },
     "execution_count": 12,
     "metadata": {},
     "output_type": "execute_result"
    }
   ],
   "source": [
    "df['Cancer'] = 0\n",
    "df['Risk'] = df['Risk'].str.lower()\n",
    "df.loc[df[\"Risk\"].str.contains('cancer'), 'Cancer'] = 1\n",
    "df.loc[df[\"Risk\"].str.contains('carcinogen'), 'Cancer'] = 1\n",
    "df.loc[df[\"Risk\"].str.contains('carcinogenic'), 'Cancer'] = 1\n",
    "cancer_counts = df['Cancer'].value_counts()\n",
    "cancer_counts"
   ]
  },
  {
   "cell_type": "code",
   "execution_count": 13,
   "metadata": {},
   "outputs": [
    {
     "data": {
      "text/plain": [
       "0    0.66362\n",
       "1    0.33638\n",
       "Name: Cancer, dtype: float64"
      ]
     },
     "execution_count": 13,
     "metadata": {},
     "output_type": "execute_result"
    }
   ],
   "source": [
    "df['Cancer'].value_counts(normalize = True)"
   ]
  },
  {
   "cell_type": "code",
   "execution_count": 14,
   "metadata": {},
   "outputs": [
    {
     "data": {
      "application/vnd.plotly.v1+json": {
       "data": [
        {
         "labels": [
          "Cancer Related",
          "Other"
         ],
         "type": "pie",
         "uid": "8e89c612-9d8f-11e8-95bc-704d7b2ccef5",
         "values": [
          184,
          363
         ]
        }
       ],
       "layout": {}
      },
      "text/html": [
       "<div id=\"18f15a7b-7c31-459c-bca7-a661c3cdca56\" style=\"height: 525px; width: 100%;\" class=\"plotly-graph-div\"></div><script type=\"text/javascript\">require([\"plotly\"], function(Plotly) { window.PLOTLYENV=window.PLOTLYENV || {};window.PLOTLYENV.BASE_URL=\"https://plot.ly\";Plotly.newPlot(\"18f15a7b-7c31-459c-bca7-a661c3cdca56\", [{\"labels\": [\"Cancer Related\", \"Other\"], \"values\": [184, 363], \"type\": \"pie\", \"uid\": \"8e8cd250-9d8f-11e8-9b35-704d7b2ccef5\"}], {}, {\"showLink\": true, \"linkText\": \"Export to plot.ly\"})});</script>"
      ],
      "text/vnd.plotly.v1+html": [
       "<div id=\"18f15a7b-7c31-459c-bca7-a661c3cdca56\" style=\"height: 525px; width: 100%;\" class=\"plotly-graph-div\"></div><script type=\"text/javascript\">require([\"plotly\"], function(Plotly) { window.PLOTLYENV=window.PLOTLYENV || {};window.PLOTLYENV.BASE_URL=\"https://plot.ly\";Plotly.newPlot(\"18f15a7b-7c31-459c-bca7-a661c3cdca56\", [{\"labels\": [\"Cancer Related\", \"Other\"], \"values\": [184, 363], \"type\": \"pie\", \"uid\": \"8e8cd250-9d8f-11e8-9b35-704d7b2ccef5\"}], {}, {\"showLink\": true, \"linkText\": \"Export to plot.ly\"})});</script>"
      ]
     },
     "metadata": {},
     "output_type": "display_data"
    }
   ],
   "source": [
    "labels = ['Cancer Related','Other']\n",
    "values = [cancer_counts[1],cancer_counts[0]]\n",
    "trace = go.Pie(labels=labels, values=values)\n",
    "py.iplot([trace], filename='basic_pie_chart')"
   ]
  },
  {
   "cell_type": "markdown",
   "metadata": {},
   "source": [
    "Around 1/3 of the risks are cancer related."
   ]
  },
  {
   "cell_type": "markdown",
   "metadata": {},
   "source": [
    "### Which product categories contain risk of cancer"
   ]
  },
  {
   "cell_type": "code",
   "execution_count": 15,
   "metadata": {},
   "outputs": [
    {
     "data": {
      "text/html": [
       "<div>\n",
       "<style scoped>\n",
       "    .dataframe tbody tr th:only-of-type {\n",
       "        vertical-align: middle;\n",
       "    }\n",
       "\n",
       "    .dataframe tbody tr th {\n",
       "        vertical-align: top;\n",
       "    }\n",
       "\n",
       "    .dataframe thead th {\n",
       "        text-align: right;\n",
       "    }\n",
       "</style>\n",
       "<table border=\"1\" class=\"dataframe\">\n",
       "  <thead>\n",
       "    <tr style=\"text-align: right;\">\n",
       "      <th></th>\n",
       "      <th>PCategory</th>\n",
       "      <th>Count</th>\n",
       "    </tr>\n",
       "  </thead>\n",
       "  <tbody>\n",
       "    <tr>\n",
       "      <th>0</th>\n",
       "      <td>tatoo</td>\n",
       "      <td>134</td>\n",
       "    </tr>\n",
       "    <tr>\n",
       "      <th>1</th>\n",
       "      <td>bicycle and car</td>\n",
       "      <td>20</td>\n",
       "    </tr>\n",
       "    <tr>\n",
       "      <th>2</th>\n",
       "      <td>glue</td>\n",
       "      <td>9</td>\n",
       "    </tr>\n",
       "    <tr>\n",
       "      <th>3</th>\n",
       "      <td>other</td>\n",
       "      <td>9</td>\n",
       "    </tr>\n",
       "    <tr>\n",
       "      <th>4</th>\n",
       "      <td>aerosol</td>\n",
       "      <td>6</td>\n",
       "    </tr>\n",
       "    <tr>\n",
       "      <th>5</th>\n",
       "      <td>poppers</td>\n",
       "      <td>6</td>\n",
       "    </tr>\n",
       "  </tbody>\n",
       "</table>\n",
       "</div>"
      ],
      "text/plain": [
       "         PCategory  Count\n",
       "0            tatoo    134\n",
       "1  bicycle and car     20\n",
       "2             glue      9\n",
       "3            other      9\n",
       "4          aerosol      6\n",
       "5          poppers      6"
      ]
     },
     "execution_count": 15,
     "metadata": {},
     "output_type": "execute_result"
    }
   ],
   "source": [
    "products_cancer = df.loc[df['Cancer']==1]\n",
    "products_cancer['PCategory'].value_counts().rename_axis('PCategory').reset_index(name='Count').sort_values(by=['Count'], ascending=False)"
   ]
  },
  {
   "cell_type": "markdown",
   "metadata": {},
   "source": [
    "### Plot of the distribution of cancer risk among individual categories"
   ]
  },
  {
   "cell_type": "code",
   "execution_count": 16,
   "metadata": {},
   "outputs": [
    {
     "data": {
      "application/vnd.plotly.v1+json": {
       "data": [
        {
         "name": "Cancer",
         "type": "bar",
         "uid": "91228c94-9d8f-11e8-8bc2-704d7b2ccef5",
         "x": [
          "tatoo",
          "glue",
          "bicycle and car",
          "aerosol",
          "poppers",
          "other"
         ],
         "y": [
          134,
          9,
          20,
          6,
          6,
          9
         ]
        },
        {
         "name": "Other Risks",
         "type": "bar",
         "uid": "91228c95-9d8f-11e8-a2d1-704d7b2ccef5",
         "x": [
          "tatoo",
          "glue",
          "bicycle and car",
          "aerosol",
          "poppers",
          "other"
         ],
         "y": [
          82,
          79,
          42,
          27,
          1,
          36
         ]
        }
       ],
       "layout": {
        "barmode": "stack"
       }
      },
      "text/html": [
       "<div id=\"eec5fcf3-170c-42b5-8994-b37ca4a36144\" style=\"height: 525px; width: 100%;\" class=\"plotly-graph-div\"></div><script type=\"text/javascript\">require([\"plotly\"], function(Plotly) { window.PLOTLYENV=window.PLOTLYENV || {};window.PLOTLYENV.BASE_URL=\"https://plot.ly\";\n",
       "        Plotly.plot(\n",
       "            'eec5fcf3-170c-42b5-8994-b37ca4a36144',\n",
       "            [{\"name\": \"Cancer\", \"x\": [\"tatoo\", \"glue\", \"bicycle and car\", \"aerosol\", \"poppers\", \"other\"], \"y\": [134, 9, 20, 6, 6, 9], \"type\": \"bar\", \"uid\": \"91228c94-9d8f-11e8-8bc2-704d7b2ccef5\"}, {\"name\": \"Other Risks\", \"x\": [\"tatoo\", \"glue\", \"bicycle and car\", \"aerosol\", \"poppers\", \"other\"], \"y\": [82, 79, 42, 27, 1, 36], \"type\": \"bar\", \"uid\": \"91228c95-9d8f-11e8-a2d1-704d7b2ccef5\"}],\n",
       "            {\"barmode\": \"stack\"},\n",
       "            {\"showLink\": true, \"linkText\": \"Export to plot.ly\"}\n",
       "        ).then(function () {return Plotly.addFrames('eec5fcf3-170c-42b5-8994-b37ca4a36144',{});}).then(function(){Plotly.animate('eec5fcf3-170c-42b5-8994-b37ca4a36144');})\n",
       "        });</script>"
      ],
      "text/vnd.plotly.v1+html": [
       "<div id=\"eec5fcf3-170c-42b5-8994-b37ca4a36144\" style=\"height: 525px; width: 100%;\" class=\"plotly-graph-div\"></div><script type=\"text/javascript\">require([\"plotly\"], function(Plotly) { window.PLOTLYENV=window.PLOTLYENV || {};window.PLOTLYENV.BASE_URL=\"https://plot.ly\";\n",
       "        Plotly.plot(\n",
       "            'eec5fcf3-170c-42b5-8994-b37ca4a36144',\n",
       "            [{\"name\": \"Cancer\", \"x\": [\"tatoo\", \"glue\", \"bicycle and car\", \"aerosol\", \"poppers\", \"other\"], \"y\": [134, 9, 20, 6, 6, 9], \"type\": \"bar\", \"uid\": \"91228c94-9d8f-11e8-8bc2-704d7b2ccef5\"}, {\"name\": \"Other Risks\", \"x\": [\"tatoo\", \"glue\", \"bicycle and car\", \"aerosol\", \"poppers\", \"other\"], \"y\": [82, 79, 42, 27, 1, 36], \"type\": \"bar\", \"uid\": \"91228c95-9d8f-11e8-a2d1-704d7b2ccef5\"}],\n",
       "            {\"barmode\": \"stack\"},\n",
       "            {\"showLink\": true, \"linkText\": \"Export to plot.ly\"}\n",
       "        ).then(function () {return Plotly.addFrames('eec5fcf3-170c-42b5-8994-b37ca4a36144',{});}).then(function(){Plotly.animate('eec5fcf3-170c-42b5-8994-b37ca4a36144');})\n",
       "        });</script>"
      ]
     },
     "metadata": {},
     "output_type": "display_data"
    }
   ],
   "source": [
    "tatoo_products = df.loc[df['PCategory']=='tatoo','Cancer'].value_counts()\n",
    "glue_products = df.loc[df['PCategory']=='glue','Cancer'].value_counts()\n",
    "bicycle_products = df.loc[df['PCategory']=='bicycle and car','Cancer'].value_counts()\n",
    "aerosol_products = df.loc[df['PCategory']=='aerosol','Cancer'].value_counts()\n",
    "poppers_products = df.loc[df['PCategory']=='poppers','Cancer'].value_counts()\n",
    "other_products = df.loc[df['PCategory']=='other','Cancer'].value_counts()\n",
    "\n",
    "cols = ['tatoo', 'glue', 'bicycle and car', 'aerosol', 'poppers', 'other']\n",
    "y1 = [tatoo_products[1], glue_products[1], bicycle_products[1], \n",
    "    aerosol_products[1], poppers_products[1], other_products[1]]\n",
    "y2 = [tatoo_products[0], glue_products[0], bicycle_products[0], \n",
    "    aerosol_products[0], poppers_products[0], other_products[0]]\n",
    "\n",
    "trace1 = go.Bar(x=cols, y=y1, name='Cancer')\n",
    "trace2 = go.Bar(x=cols, y=y2, name='Other Risks')\n",
    "data = [trace1, trace2]\n",
    "layout = go.Layout(barmode='stack')\n",
    "fig = go.Figure(data=data, layout=layout)\n",
    "py.iplot(fig, filename='stacked-bar')"
   ]
  },
  {
   "cell_type": "markdown",
   "metadata": {},
   "source": [
    "### Summary"
   ]
  },
  {
   "cell_type": "code",
   "execution_count": 17,
   "metadata": {},
   "outputs": [
    {
     "name": "stdout",
     "output_type": "stream",
     "text": [
      "         PCategory  Cancer risk  Other risks  Sum  Cancer risk %\n",
      "0            tatoo          134           82  216      62.037037\n",
      "1             glue            9           79   88      10.227273\n",
      "2  bicycle and car           20           42   62      32.258065\n",
      "3          aerosol            6           27   33      18.181818\n",
      "4          poppers            6            1    7      85.714286\n",
      "5            other            9           36   45      20.000000\n"
     ]
    }
   ],
   "source": [
    "results_df = pd.DataFrame.from_dict({\n",
    "    \"PCategory\": cols,\n",
    "    \"Cancer risk\": y1,\n",
    "    \"Other risks\": y2\n",
    "})\n",
    "\n",
    "results_df['Sum'] = results_df['Cancer risk'] + results_df['Other risks']\n",
    "results_df['Cancer risk %'] = (results_df['Cancer risk']/results_df['Sum'])*100\n",
    "\n",
    "print(results_df)"
   ]
  },
  {
   "cell_type": "markdown",
   "metadata": {},
   "source": [
    "Conclusion most cancer related alerts were products from the tatoo category."
   ]
  },
  {
   "cell_type": "markdown",
   "metadata": {},
   "source": [
    "### Why there are no e-cigarette related cancer risks?"
   ]
  },
  {
   "cell_type": "code",
   "execution_count": 18,
   "metadata": {},
   "outputs": [
    {
     "data": {
      "text/plain": [
       "False    37\n",
       "Name: Risk, dtype: int64"
      ]
     },
     "execution_count": 18,
     "metadata": {},
     "output_type": "execute_result"
    }
   ],
   "source": [
    "e_cig_risks = df.loc[df['PCategory']=='e-cigarette','Risk']\n",
    "e_cig_risks.str.contains('carcinogen|cancer').value_counts()"
   ]
  },
  {
   "cell_type": "markdown",
   "metadata": {},
   "source": [
    "### What are some of the risks of e-cigarettes"
   ]
  },
  {
   "cell_type": "markdown",
   "metadata": {},
   "source": [
    "#### Related to packaging, label or warning"
   ]
  },
  {
   "cell_type": "code",
   "execution_count": 19,
   "metadata": {},
   "outputs": [
    {
     "data": {
      "text/plain": [
       "True     33\n",
       "False     4\n",
       "Name: Risk, dtype: int64"
      ]
     },
     "execution_count": 19,
     "metadata": {},
     "output_type": "execute_result"
    }
   ],
   "source": [
    "e_cig_risks.str.contains('label|packaging|safety\\sadvice|danger\\swarning').value_counts()"
   ]
  },
  {
   "cell_type": "markdown",
   "metadata": {},
   "source": [
    "#### Related specifically to nicotin"
   ]
  },
  {
   "cell_type": "code",
   "execution_count": 20,
   "metadata": {},
   "outputs": [
    {
     "data": {
      "text/plain": [
       "True     31\n",
       "False     6\n",
       "Name: Risk, dtype: int64"
      ]
     },
     "execution_count": 20,
     "metadata": {},
     "output_type": "execute_result"
    }
   ],
   "source": [
    "e_cig_risks.str.contains('nicotin').value_counts()"
   ]
  },
  {
   "cell_type": "markdown",
   "metadata": {},
   "source": [
    "Conclusion: Because e-cigarettes deliver nicotine without the tar and many of the other cancer-linked chemicals found in tobacco, they’re thought to pose less of a cancer risk. \n",
    "\n",
    "However most cases are related to wrong or missing labelling or missing information about nicotine amounts."
   ]
  },
  {
   "cell_type": "markdown",
   "metadata": {},
   "source": [
    "### Which bicycle and car products are related to cancer risk?"
   ]
  },
  {
   "cell_type": "code",
   "execution_count": 21,
   "metadata": {},
   "outputs": [
    {
     "data": {
      "text/html": [
       "<div>\n",
       "<style scoped>\n",
       "    .dataframe tbody tr th:only-of-type {\n",
       "        vertical-align: middle;\n",
       "    }\n",
       "\n",
       "    .dataframe tbody tr th {\n",
       "        vertical-align: top;\n",
       "    }\n",
       "\n",
       "    .dataframe thead th {\n",
       "        text-align: right;\n",
       "    }\n",
       "</style>\n",
       "<table border=\"1\" class=\"dataframe\">\n",
       "  <thead>\n",
       "    <tr style=\"text-align: right;\">\n",
       "      <th></th>\n",
       "      <th>Product</th>\n",
       "      <th>Count</th>\n",
       "    </tr>\n",
       "  </thead>\n",
       "  <tbody>\n",
       "    <tr>\n",
       "      <th>0</th>\n",
       "      <td>rubber solution in bicycle repair kit</td>\n",
       "      <td>7</td>\n",
       "    </tr>\n",
       "    <tr>\n",
       "      <th>1</th>\n",
       "      <td>bicycle repair kit</td>\n",
       "      <td>2</td>\n",
       "    </tr>\n",
       "    <tr>\n",
       "      <th>2</th>\n",
       "      <td>rubber solution in a bicycle repair kit</td>\n",
       "      <td>2</td>\n",
       "    </tr>\n",
       "    <tr>\n",
       "      <th>3</th>\n",
       "      <td>rubber solution in bike repair set containing rubber solution, spanner and several plasters, 'fahrrad flick' set</td>\n",
       "      <td>1</td>\n",
       "    </tr>\n",
       "    <tr>\n",
       "      <th>4</th>\n",
       "      <td>bicycle repair set with rubber cement red sun</td>\n",
       "      <td>1</td>\n",
       "    </tr>\n",
       "    <tr>\n",
       "      <th>5</th>\n",
       "      <td>pax rubber cement</td>\n",
       "      <td>1</td>\n",
       "    </tr>\n",
       "    <tr>\n",
       "      <th>6</th>\n",
       "      <td>bicycle tyre repair kit - rubber solution</td>\n",
       "      <td>1</td>\n",
       "    </tr>\n",
       "    <tr>\n",
       "      <th>7</th>\n",
       "      <td>bicycle repair kit with glue</td>\n",
       "      <td>1</td>\n",
       "    </tr>\n",
       "    <tr>\n",
       "      <th>8</th>\n",
       "      <td>bicycle tyre repair kit</td>\n",
       "      <td>1</td>\n",
       "    </tr>\n",
       "    <tr>\n",
       "      <th>9</th>\n",
       "      <td>bicycle repair kit - rubber solution</td>\n",
       "      <td>1</td>\n",
       "    </tr>\n",
       "    <tr>\n",
       "      <th>10</th>\n",
       "      <td>tyre repair kit</td>\n",
       "      <td>1</td>\n",
       "    </tr>\n",
       "    <tr>\n",
       "      <th>11</th>\n",
       "      <td>rubber solution in bicycle repair kit.</td>\n",
       "      <td>1</td>\n",
       "    </tr>\n",
       "  </tbody>\n",
       "</table>\n",
       "</div>"
      ],
      "text/plain": [
       "                                                                                                             Product  \\\n",
       "0                                                                              rubber solution in bicycle repair kit   \n",
       "1                                                                                                 bicycle repair kit   \n",
       "2                                                                            rubber solution in a bicycle repair kit   \n",
       "3   rubber solution in bike repair set containing rubber solution, spanner and several plasters, 'fahrrad flick' set   \n",
       "4                                                                      bicycle repair set with rubber cement red sun   \n",
       "5                                                                                                  pax rubber cement   \n",
       "6                                                                          bicycle tyre repair kit - rubber solution   \n",
       "7                                                                                       bicycle repair kit with glue   \n",
       "8                                                                                            bicycle tyre repair kit   \n",
       "9                                                                               bicycle repair kit - rubber solution   \n",
       "10                                                                                                   tyre repair kit   \n",
       "11                                                                            rubber solution in bicycle repair kit.   \n",
       "\n",
       "    Count  \n",
       "0       7  \n",
       "1       2  \n",
       "2       2  \n",
       "3       1  \n",
       "4       1  \n",
       "5       1  \n",
       "6       1  \n",
       "7       1  \n",
       "8       1  \n",
       "9       1  \n",
       "10      1  \n",
       "11      1  "
      ]
     },
     "execution_count": 21,
     "metadata": {},
     "output_type": "execute_result"
    }
   ],
   "source": [
    "bc_products = df.loc[df['PCategory']=='bicycle and car']\n",
    "bc_products = bc_products.loc[bc_products['Cancer']==1]\n",
    "\n",
    "bc_product_counts = bc_products['Product'].value_counts().rename_axis('Product').reset_index(name='Count')\n",
    "bc_product_counts.sort_values(by=['Count'], ascending=False)\n",
    "bc_product_counts"
   ]
  },
  {
   "cell_type": "markdown",
   "metadata": {},
   "source": [
    "Looks like the cancer risk is mainly due to benzene present in bicycle tyre repair kits."
   ]
  },
  {
   "cell_type": "code",
   "execution_count": 22,
   "metadata": {},
   "outputs": [
    {
     "data": {
      "text/html": [
       "<div>\n",
       "<style scoped>\n",
       "    .dataframe tbody tr th:only-of-type {\n",
       "        vertical-align: middle;\n",
       "    }\n",
       "\n",
       "    .dataframe tbody tr th {\n",
       "        vertical-align: top;\n",
       "    }\n",
       "\n",
       "    .dataframe thead th {\n",
       "        text-align: right;\n",
       "    }\n",
       "</style>\n",
       "<table border=\"1\" class=\"dataframe\">\n",
       "  <thead>\n",
       "    <tr style=\"text-align: right;\">\n",
       "      <th></th>\n",
       "      <th>Product</th>\n",
       "      <th>Count</th>\n",
       "    </tr>\n",
       "  </thead>\n",
       "  <tbody>\n",
       "    <tr>\n",
       "      <th>0</th>\n",
       "      <td>bicycle repair kit</td>\n",
       "      <td>16</td>\n",
       "    </tr>\n",
       "    <tr>\n",
       "      <th>1</th>\n",
       "      <td>rubber solution in bike repair set containing rubber solution, spanner and several plasters, 'fahrrad flick' set</td>\n",
       "      <td>1</td>\n",
       "    </tr>\n",
       "    <tr>\n",
       "      <th>2</th>\n",
       "      <td>tyre repair kit</td>\n",
       "      <td>1</td>\n",
       "    </tr>\n",
       "    <tr>\n",
       "      <th>3</th>\n",
       "      <td>pax rubber cement</td>\n",
       "      <td>1</td>\n",
       "    </tr>\n",
       "    <tr>\n",
       "      <th>4</th>\n",
       "      <td>bicycle repair set with rubber cement red sun</td>\n",
       "      <td>1</td>\n",
       "    </tr>\n",
       "  </tbody>\n",
       "</table>\n",
       "</div>"
      ],
      "text/plain": [
       "                                                                                                            Product  \\\n",
       "0                                                                                                bicycle repair kit   \n",
       "1  rubber solution in bike repair set containing rubber solution, spanner and several plasters, 'fahrrad flick' set   \n",
       "2                                                                                                   tyre repair kit   \n",
       "3                                                                                                 pax rubber cement   \n",
       "4                                                                     bicycle repair set with rubber cement red sun   \n",
       "\n",
       "   Count  \n",
       "0     16  \n",
       "1      1  \n",
       "2      1  \n",
       "3      1  \n",
       "4      1  "
      ]
     },
     "execution_count": 22,
     "metadata": {},
     "output_type": "execute_result"
    }
   ],
   "source": [
    "bc_products.loc[bc_products['Product'].str.contains('bicycle.*repair.*kit'), 'Product'] = 'bicycle repair kit'\n",
    "bc_product_counts = bc_products['Product'].value_counts().rename_axis('Product').reset_index(name='Count')\n",
    "bc_product_counts.sort_values(by=['Count'], ascending=False)\n",
    "bc_product_counts"
   ]
  },
  {
   "cell_type": "markdown",
   "metadata": {},
   "source": [
    "Conclusion: Most cancer related alerts from the bicycle and car category are due to chemicals in the bicycle repair kits."
   ]
  },
  {
   "cell_type": "markdown",
   "metadata": {},
   "source": [
    "## Countries"
   ]
  },
  {
   "cell_type": "markdown",
   "metadata": {},
   "source": [
    "'Alert submitted by' contains the name of the country where the risk was submitted"
   ]
  },
  {
   "cell_type": "code",
   "execution_count": 23,
   "metadata": {},
   "outputs": [
    {
     "data": {
      "text/html": [
       "<div>\n",
       "<style scoped>\n",
       "    .dataframe tbody tr th:only-of-type {\n",
       "        vertical-align: middle;\n",
       "    }\n",
       "\n",
       "    .dataframe tbody tr th {\n",
       "        vertical-align: top;\n",
       "    }\n",
       "\n",
       "    .dataframe thead th {\n",
       "        text-align: right;\n",
       "    }\n",
       "</style>\n",
       "<table border=\"1\" class=\"dataframe\">\n",
       "  <thead>\n",
       "    <tr style=\"text-align: right;\">\n",
       "      <th></th>\n",
       "      <th>user</th>\n",
       "      <th>Count</th>\n",
       "    </tr>\n",
       "  </thead>\n",
       "  <tbody>\n",
       "    <tr>\n",
       "      <th>0</th>\n",
       "      <td>Germany</td>\n",
       "      <td>123</td>\n",
       "    </tr>\n",
       "    <tr>\n",
       "      <th>1</th>\n",
       "      <td>Italy</td>\n",
       "      <td>104</td>\n",
       "    </tr>\n",
       "    <tr>\n",
       "      <th>2</th>\n",
       "      <td>France</td>\n",
       "      <td>56</td>\n",
       "    </tr>\n",
       "    <tr>\n",
       "      <th>3</th>\n",
       "      <td>The Netherlands</td>\n",
       "      <td>55</td>\n",
       "    </tr>\n",
       "    <tr>\n",
       "      <th>4</th>\n",
       "      <td>Spain</td>\n",
       "      <td>41</td>\n",
       "    </tr>\n",
       "    <tr>\n",
       "      <th>5</th>\n",
       "      <td>Sweden</td>\n",
       "      <td>33</td>\n",
       "    </tr>\n",
       "    <tr>\n",
       "      <th>6</th>\n",
       "      <td>Lithuania</td>\n",
       "      <td>26</td>\n",
       "    </tr>\n",
       "    <tr>\n",
       "      <th>7</th>\n",
       "      <td>Cyprus</td>\n",
       "      <td>19</td>\n",
       "    </tr>\n",
       "    <tr>\n",
       "      <th>8</th>\n",
       "      <td>United Kingdom</td>\n",
       "      <td>16</td>\n",
       "    </tr>\n",
       "    <tr>\n",
       "      <th>9</th>\n",
       "      <td>Denmark</td>\n",
       "      <td>14</td>\n",
       "    </tr>\n",
       "    <tr>\n",
       "      <th>10</th>\n",
       "      <td>Latvia</td>\n",
       "      <td>9</td>\n",
       "    </tr>\n",
       "    <tr>\n",
       "      <th>11</th>\n",
       "      <td>Malta</td>\n",
       "      <td>7</td>\n",
       "    </tr>\n",
       "    <tr>\n",
       "      <th>12</th>\n",
       "      <td>Estonia</td>\n",
       "      <td>6</td>\n",
       "    </tr>\n",
       "    <tr>\n",
       "      <th>13</th>\n",
       "      <td>Slovenia</td>\n",
       "      <td>5</td>\n",
       "    </tr>\n",
       "    <tr>\n",
       "      <th>14</th>\n",
       "      <td>Greece</td>\n",
       "      <td>5</td>\n",
       "    </tr>\n",
       "    <tr>\n",
       "      <th>15</th>\n",
       "      <td>Bulgaria</td>\n",
       "      <td>5</td>\n",
       "    </tr>\n",
       "    <tr>\n",
       "      <th>16</th>\n",
       "      <td>Hungary</td>\n",
       "      <td>4</td>\n",
       "    </tr>\n",
       "    <tr>\n",
       "      <th>17</th>\n",
       "      <td>Ireland</td>\n",
       "      <td>4</td>\n",
       "    </tr>\n",
       "    <tr>\n",
       "      <th>18</th>\n",
       "      <td>Croatia</td>\n",
       "      <td>3</td>\n",
       "    </tr>\n",
       "    <tr>\n",
       "      <th>19</th>\n",
       "      <td>Czech Republic</td>\n",
       "      <td>3</td>\n",
       "    </tr>\n",
       "    <tr>\n",
       "      <th>20</th>\n",
       "      <td>Finland</td>\n",
       "      <td>3</td>\n",
       "    </tr>\n",
       "    <tr>\n",
       "      <th>21</th>\n",
       "      <td>Austria</td>\n",
       "      <td>2</td>\n",
       "    </tr>\n",
       "    <tr>\n",
       "      <th>22</th>\n",
       "      <td>Slovakia</td>\n",
       "      <td>2</td>\n",
       "    </tr>\n",
       "    <tr>\n",
       "      <th>23</th>\n",
       "      <td>Portugal</td>\n",
       "      <td>1</td>\n",
       "    </tr>\n",
       "    <tr>\n",
       "      <th>24</th>\n",
       "      <td>Romania</td>\n",
       "      <td>1</td>\n",
       "    </tr>\n",
       "  </tbody>\n",
       "</table>\n",
       "</div>"
      ],
      "text/plain": [
       "               user  Count\n",
       "0           Germany    123\n",
       "1             Italy    104\n",
       "2            France     56\n",
       "3   The Netherlands     55\n",
       "4             Spain     41\n",
       "5            Sweden     33\n",
       "6         Lithuania     26\n",
       "7            Cyprus     19\n",
       "8    United Kingdom     16\n",
       "9           Denmark     14\n",
       "10           Latvia      9\n",
       "11            Malta      7\n",
       "12          Estonia      6\n",
       "13         Slovenia      5\n",
       "14           Greece      5\n",
       "15         Bulgaria      5\n",
       "16          Hungary      4\n",
       "17          Ireland      4\n",
       "18          Croatia      3\n",
       "19   Czech Republic      3\n",
       "20          Finland      3\n",
       "21          Austria      2\n",
       "22         Slovakia      2\n",
       "23         Portugal      1\n",
       "24          Romania      1"
      ]
     },
     "execution_count": 23,
     "metadata": {},
     "output_type": "execute_result"
    }
   ],
   "source": [
    "df['Alert submitted by'].value_counts().rename_axis('user').reset_index(name='Count')"
   ]
  },
  {
   "cell_type": "markdown",
   "metadata": {},
   "source": [
    "### Countries of origin"
   ]
  },
  {
   "cell_type": "code",
   "execution_count": 24,
   "metadata": {},
   "outputs": [
    {
     "data": {
      "text/html": [
       "<div>\n",
       "<style scoped>\n",
       "    .dataframe tbody tr th:only-of-type {\n",
       "        vertical-align: middle;\n",
       "    }\n",
       "\n",
       "    .dataframe tbody tr th {\n",
       "        vertical-align: top;\n",
       "    }\n",
       "\n",
       "    .dataframe thead th {\n",
       "        text-align: right;\n",
       "    }\n",
       "</style>\n",
       "<table border=\"1\" class=\"dataframe\">\n",
       "  <thead>\n",
       "    <tr style=\"text-align: right;\">\n",
       "      <th></th>\n",
       "      <th>user</th>\n",
       "      <th>Count</th>\n",
       "    </tr>\n",
       "  </thead>\n",
       "  <tbody>\n",
       "    <tr>\n",
       "      <th>0</th>\n",
       "      <td>United States</td>\n",
       "      <td>173</td>\n",
       "    </tr>\n",
       "    <tr>\n",
       "      <th>1</th>\n",
       "      <td>China</td>\n",
       "      <td>136</td>\n",
       "    </tr>\n",
       "    <tr>\n",
       "      <th>2</th>\n",
       "      <td>Unknown</td>\n",
       "      <td>46</td>\n",
       "    </tr>\n",
       "    <tr>\n",
       "      <th>3</th>\n",
       "      <td>Germany</td>\n",
       "      <td>26</td>\n",
       "    </tr>\n",
       "    <tr>\n",
       "      <th>4</th>\n",
       "      <td>Italy</td>\n",
       "      <td>24</td>\n",
       "    </tr>\n",
       "    <tr>\n",
       "      <th>5</th>\n",
       "      <td>United Kingdom</td>\n",
       "      <td>20</td>\n",
       "    </tr>\n",
       "    <tr>\n",
       "      <th>6</th>\n",
       "      <td>France</td>\n",
       "      <td>14</td>\n",
       "    </tr>\n",
       "    <tr>\n",
       "      <th>7</th>\n",
       "      <td>Poland</td>\n",
       "      <td>12</td>\n",
       "    </tr>\n",
       "    <tr>\n",
       "      <th>8</th>\n",
       "      <td>The Netherlands</td>\n",
       "      <td>11</td>\n",
       "    </tr>\n",
       "    <tr>\n",
       "      <th>9</th>\n",
       "      <td>Taiwan</td>\n",
       "      <td>9</td>\n",
       "    </tr>\n",
       "    <tr>\n",
       "      <th>10</th>\n",
       "      <td>Japan</td>\n",
       "      <td>8</td>\n",
       "    </tr>\n",
       "    <tr>\n",
       "      <th>11</th>\n",
       "      <td>Spain</td>\n",
       "      <td>7</td>\n",
       "    </tr>\n",
       "    <tr>\n",
       "      <th>12</th>\n",
       "      <td>Turkey</td>\n",
       "      <td>6</td>\n",
       "    </tr>\n",
       "    <tr>\n",
       "      <th>13</th>\n",
       "      <td>Belgium</td>\n",
       "      <td>6</td>\n",
       "    </tr>\n",
       "    <tr>\n",
       "      <th>14</th>\n",
       "      <td>Canada</td>\n",
       "      <td>5</td>\n",
       "    </tr>\n",
       "    <tr>\n",
       "      <th>15</th>\n",
       "      <td>Bulgaria</td>\n",
       "      <td>4</td>\n",
       "    </tr>\n",
       "    <tr>\n",
       "      <th>16</th>\n",
       "      <td>Switzerland</td>\n",
       "      <td>4</td>\n",
       "    </tr>\n",
       "    <tr>\n",
       "      <th>17</th>\n",
       "      <td>Egypt</td>\n",
       "      <td>3</td>\n",
       "    </tr>\n",
       "    <tr>\n",
       "      <th>18</th>\n",
       "      <td>Romania</td>\n",
       "      <td>3</td>\n",
       "    </tr>\n",
       "    <tr>\n",
       "      <th>19</th>\n",
       "      <td>Czech Republic</td>\n",
       "      <td>2</td>\n",
       "    </tr>\n",
       "    <tr>\n",
       "      <th>20</th>\n",
       "      <td>Ireland</td>\n",
       "      <td>2</td>\n",
       "    </tr>\n",
       "    <tr>\n",
       "      <th>21</th>\n",
       "      <td>Malaysia</td>\n",
       "      <td>2</td>\n",
       "    </tr>\n",
       "    <tr>\n",
       "      <th>22</th>\n",
       "      <td>Greece</td>\n",
       "      <td>2</td>\n",
       "    </tr>\n",
       "    <tr>\n",
       "      <th>23</th>\n",
       "      <td>Brazil</td>\n",
       "      <td>2</td>\n",
       "    </tr>\n",
       "    <tr>\n",
       "      <th>24</th>\n",
       "      <td>Denmark</td>\n",
       "      <td>2</td>\n",
       "    </tr>\n",
       "    <tr>\n",
       "      <th>25</th>\n",
       "      <td>Monaco</td>\n",
       "      <td>1</td>\n",
       "    </tr>\n",
       "    <tr>\n",
       "      <th>26</th>\n",
       "      <td>Sweden</td>\n",
       "      <td>1</td>\n",
       "    </tr>\n",
       "    <tr>\n",
       "      <th>27</th>\n",
       "      <td>Australia, Canada, United States</td>\n",
       "      <td>1</td>\n",
       "    </tr>\n",
       "    <tr>\n",
       "      <th>28</th>\n",
       "      <td>Israel</td>\n",
       "      <td>1</td>\n",
       "    </tr>\n",
       "    <tr>\n",
       "      <th>29</th>\n",
       "      <td>Hong Kong</td>\n",
       "      <td>1</td>\n",
       "    </tr>\n",
       "    <tr>\n",
       "      <th>30</th>\n",
       "      <td>Philippines</td>\n",
       "      <td>1</td>\n",
       "    </tr>\n",
       "    <tr>\n",
       "      <th>31</th>\n",
       "      <td>Finland</td>\n",
       "      <td>1</td>\n",
       "    </tr>\n",
       "    <tr>\n",
       "      <th>32</th>\n",
       "      <td>Hungary</td>\n",
       "      <td>1</td>\n",
       "    </tr>\n",
       "    <tr>\n",
       "      <th>33</th>\n",
       "      <td>The Bahamas</td>\n",
       "      <td>1</td>\n",
       "    </tr>\n",
       "    <tr>\n",
       "      <th>34</th>\n",
       "      <td>Bosnia and Herzegovina</td>\n",
       "      <td>1</td>\n",
       "    </tr>\n",
       "    <tr>\n",
       "      <th>35</th>\n",
       "      <td>Indonesia</td>\n",
       "      <td>1</td>\n",
       "    </tr>\n",
       "    <tr>\n",
       "      <th>36</th>\n",
       "      <td>Dominican Republic</td>\n",
       "      <td>1</td>\n",
       "    </tr>\n",
       "    <tr>\n",
       "      <th>37</th>\n",
       "      <td>Republic of Korea</td>\n",
       "      <td>1</td>\n",
       "    </tr>\n",
       "    <tr>\n",
       "      <th>38</th>\n",
       "      <td>Mexico</td>\n",
       "      <td>1</td>\n",
       "    </tr>\n",
       "    <tr>\n",
       "      <th>39</th>\n",
       "      <td>Austria</td>\n",
       "      <td>1</td>\n",
       "    </tr>\n",
       "    <tr>\n",
       "      <th>40</th>\n",
       "      <td>Luxembourg</td>\n",
       "      <td>1</td>\n",
       "    </tr>\n",
       "    <tr>\n",
       "      <th>41</th>\n",
       "      <td>India</td>\n",
       "      <td>1</td>\n",
       "    </tr>\n",
       "    <tr>\n",
       "      <th>42</th>\n",
       "      <td>Estonia</td>\n",
       "      <td>1</td>\n",
       "    </tr>\n",
       "  </tbody>\n",
       "</table>\n",
       "</div>"
      ],
      "text/plain": [
       "                                user  Count\n",
       "0                      United States    173\n",
       "1                              China    136\n",
       "2                            Unknown     46\n",
       "3                            Germany     26\n",
       "4                              Italy     24\n",
       "5                     United Kingdom     20\n",
       "6                             France     14\n",
       "7                             Poland     12\n",
       "8                    The Netherlands     11\n",
       "9                             Taiwan      9\n",
       "10                             Japan      8\n",
       "11                             Spain      7\n",
       "12                            Turkey      6\n",
       "13                           Belgium      6\n",
       "14                            Canada      5\n",
       "15                          Bulgaria      4\n",
       "16                       Switzerland      4\n",
       "17                             Egypt      3\n",
       "18                           Romania      3\n",
       "19                    Czech Republic      2\n",
       "20                           Ireland      2\n",
       "21                          Malaysia      2\n",
       "22                            Greece      2\n",
       "23                            Brazil      2\n",
       "24                           Denmark      2\n",
       "25                            Monaco      1\n",
       "26                            Sweden      1\n",
       "27  Australia, Canada, United States      1\n",
       "28                            Israel      1\n",
       "29                         Hong Kong      1\n",
       "30                       Philippines      1\n",
       "31                           Finland      1\n",
       "32                           Hungary      1\n",
       "33                       The Bahamas      1\n",
       "34            Bosnia and Herzegovina      1\n",
       "35                         Indonesia      1\n",
       "36                Dominican Republic      1\n",
       "37                 Republic of Korea      1\n",
       "38                            Mexico      1\n",
       "39                           Austria      1\n",
       "40                        Luxembourg      1\n",
       "41                             India      1\n",
       "42                           Estonia      1"
      ]
     },
     "execution_count": 24,
     "metadata": {},
     "output_type": "execute_result"
    }
   ],
   "source": [
    "df['Country of origin'].value_counts().rename_axis('user').reset_index(name='Count')"
   ]
  },
  {
   "cell_type": "code",
   "execution_count": null,
   "metadata": {},
   "outputs": [],
   "source": []
  }
 ],
 "metadata": {
  "kernelspec": {
   "display_name": "Python 3",
   "language": "python",
   "name": "python3"
  },
  "language_info": {
   "codemirror_mode": {
    "name": "ipython",
    "version": 3
   },
   "file_extension": ".py",
   "mimetype": "text/x-python",
   "name": "python",
   "nbconvert_exporter": "python",
   "pygments_lexer": "ipython3",
   "version": "3.7.0"
  }
 },
 "nbformat": 4,
 "nbformat_minor": 2
}
